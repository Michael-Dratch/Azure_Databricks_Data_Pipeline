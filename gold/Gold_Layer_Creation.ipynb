{
 "cells": [
  {
   "cell_type": "markdown",
   "metadata": {
    "application/vnd.databricks.v1+cell": {
     "cellMetadata": {
      "byteLimit": 2048000,
      "rowLimit": 10000
     },
     "inputWidgets": {},
     "nuid": "9b7cffba-dbf9-4d51-8263-8765269d83d2",
     "showTitle": false,
     "title": ""
    }
   },
   "source": [
    "#Gold Layer Creation"
   ]
  },
  {
   "cell_type": "markdown",
   "metadata": {
    "application/vnd.databricks.v1+cell": {
     "cellMetadata": {
      "byteLimit": 2048000,
      "rowLimit": 10000
     },
     "inputWidgets": {},
     "nuid": "3ac543ea-8bd5-4ffb-bc4f-ffaea51499fc",
     "showTitle": false,
     "title": ""
    }
   },
   "source": [
    "## Read Files From Silver Layer"
   ]
  },
  {
   "cell_type": "code",
   "execution_count": 0,
   "metadata": {
    "application/vnd.databricks.v1+cell": {
     "cellMetadata": {
      "byteLimit": 2048000,
      "rowLimit": 10000
     },
     "inputWidgets": {},
     "nuid": "910c1807-3218-4597-8d21-e8f6d1b4ae3c",
     "showTitle": false,
     "title": ""
    }
   },
   "outputs": [],
   "source": [
    "service_credential = dbutils.secrets.get(scope=\"databricks-app-kv\",key=\"databricks-application\")\n",
    "\n",
    "spark.conf.set(\"fs.azure.account.auth.type.20230821desa.dfs.core.windows.net\", \"OAuth\")\n",
    "spark.conf.set(\"fs.azure.account.oauth.provider.type.20230821desa.dfs.core.windows.net\", \"org.apache.hadoop.fs.azurebfs.oauth2.ClientCredsTokenProvider\")\n",
    "spark.conf.set(\"fs.azure.account.oauth2.client.id.20230821desa.dfs.core.windows.net\", \"de4ff859-02b1-4e2f-9d16-b578fa03df4f\")\n",
    "spark.conf.set(\"fs.azure.account.oauth2.client.secret.20230821desa.dfs.core.windows.net\", service_credential)\n",
    "spark.conf.set(\"fs.azure.account.oauth2.client.endpoint.20230821desa.dfs.core.windows.net\", \"https://login.microsoftonline.com/33da9f3f-4c1a-4640-8ce1-3f63024aea1d/oauth2/token\")"
   ]
  },
  {
   "cell_type": "markdown",
   "metadata": {
    "application/vnd.databricks.v1+cell": {
     "cellMetadata": {
      "byteLimit": 2048000,
      "rowLimit": 10000
     },
     "inputWidgets": {},
     "nuid": "8c28f3c1-5506-49ee-9b81-1e61befd5e54",
     "showTitle": false,
     "title": ""
    }
   },
   "source": [
    "###Load Actor/Repos/Orgs Table"
   ]
  },
  {
   "cell_type": "code",
   "execution_count": 0,
   "metadata": {
    "application/vnd.databricks.v1+cell": {
     "cellMetadata": {
      "byteLimit": 2048000,
      "rowLimit": 10000
     },
     "inputWidgets": {},
     "nuid": "4adcb48b-09af-465f-b048-35ad657e8cc8",
     "showTitle": false,
     "title": ""
    }
   },
   "outputs": [],
   "source": [
    "actor_table = spark.read.parquet(f\"abfss://team2-project2@20230821desa.dfs.core.windows.net/SilverLayer/actors/*.parquet\")\n",
    "repos_table = spark.read.parquet(f\"abfss://team2-project2@20230821desa.dfs.core.windows.net/SilverLayer/repos/*.parquet\")\n",
    "orgs_table = spark.read.parquet(f\"abfss://team2-project2@20230821desa.dfs.core.windows.net/SilverLayer/orgs/*.parquet\")"
   ]
  },
  {
   "cell_type": "markdown",
   "metadata": {
    "application/vnd.databricks.v1+cell": {
     "cellMetadata": {
      "byteLimit": 2048000,
      "rowLimit": 10000
     },
     "inputWidgets": {},
     "nuid": "becd5852-5a74-48cb-823e-8b738c21127b",
     "showTitle": false,
     "title": ""
    }
   },
   "source": [
    "###Load Event Tables"
   ]
  },
  {
   "cell_type": "code",
   "execution_count": 0,
   "metadata": {
    "application/vnd.databricks.v1+cell": {
     "cellMetadata": {
      "byteLimit": 2048000,
      "rowLimit": 10000
     },
     "inputWidgets": {},
     "nuid": "1a91df0f-43f6-4665-a93d-946fd0160475",
     "showTitle": false,
     "title": ""
    }
   },
   "outputs": [],
   "source": [
    "event_tables = {}\n",
    "\n",
    "event_tables[\"CreateEvent\"] = spark.read.parquet(f\"abfss://team2-project2@20230821desa.dfs.core.windows.net/SilverLayer/CreateEvent/*.parquet\")\n",
    "\n",
    "event_tables[\"CommitCommentEvent\"] = spark.read.parquet(f\"abfss://team2-project2@20230821desa.dfs.core.windows.net/SilverLayer/CommitCommentEvent/*.parquet\")\n",
    "\n",
    "event_tables[\"DeleteEvent\"] = spark.read.parquet(f\"abfss://team2-project2@20230821desa.dfs.core.windows.net/SilverLayer/DeleteEvent/*.parquet\")\n",
    "\n",
    "event_tables[\"ForkEvent\"] = spark.read.parquet(f\"abfss://team2-project2@20230821desa.dfs.core.windows.net/SilverLayer/ForkEvent/*.parquet\")\n",
    "\n",
    "event_tables[\"GollumEvent\"] = spark.read.parquet(f\"abfss://team2-project2@20230821desa.dfs.core.windows.net/SilverLayer/GollumEvent/*.parquet\")\n",
    "\n",
    "event_tables[\"IssueCommentEvent\"] = spark.read.parquet(f\"abfss://team2-project2@20230821desa.dfs.core.windows.net/SilverLayer/IssueCommentEvent/*.parquet\")\n",
    "\n",
    "event_tables[\"IssuesEvent\"] = spark.read.parquet(f\"abfss://team2-project2@20230821desa.dfs.core.windows.net/SilverLayer/IssuesEvent/*.parquet\")\n",
    "\n",
    "event_tables[\"MemberEvent\"] = spark.read.parquet(f\"abfss://team2-project2@20230821desa.dfs.core.windows.net/SilverLayer/MemberEvent/*.parquet\")\n",
    "\n",
    "event_tables[\"PublicEvent\"] = spark.read.parquet(f\"abfss://team2-project2@20230821desa.dfs.core.windows.net/SilverLayer/PublicEvent/*.parquet\")\n",
    "\n",
    "event_tables[\"PushEvent\"] = spark.read.parquet(f\"abfss://team2-project2@20230821desa.dfs.core.windows.net/SilverLayer/PushEvent/*.parquet\")\n",
    "\n",
    "event_tables[\"PullRequestEvent\"] = spark.read.parquet(f\"abfss://team2-project2@20230821desa.dfs.core.windows.net/SilverLayer/PullRequestEvent/*.parquet\")\n",
    "\n",
    "event_tables[\"PullRequestReviewCommentEvent\"] = spark.read.parquet(f\"abfss://team2-project2@20230821desa.dfs.core.windows.net/SilverLayer/PullRequestReviewCommentEvent/*.parquet\")\n",
    "\n",
    "event_tables[\"PullRequestReviewEvent\"] = spark.read.parquet(f\"abfss://team2-project2@20230821desa.dfs.core.windows.net/SilverLayer/PullRequestReviewEvent/*.parquet\")\n",
    "\n",
    "event_tables[\"ReleaseEvent\"] = spark.read.parquet(f\"abfss://team2-project2@20230821desa.dfs.core.windows.net/SilverLayer/ReleaseEvent/*.parquet\")\n",
    "\n",
    "event_tables[\"WatchEvent\"] = spark.read.parquet(f\"abfss://team2-project2@20230821desa.dfs.core.windows.net/SilverLayer/WatchEvent/*.parquet\")"
   ]
  },
  {
   "cell_type": "markdown",
   "metadata": {
    "application/vnd.databricks.v1+cell": {
     "cellMetadata": {
      "byteLimit": 2048000,
      "rowLimit": 10000
     },
     "inputWidgets": {},
     "nuid": "4229968f-c3e1-4fc0-b6a6-7d74e974629e",
     "showTitle": false,
     "title": ""
    }
   },
   "source": [
    "##Create Gold Tables"
   ]
  },
  {
   "cell_type": "code",
   "execution_count": 0,
   "metadata": {
    "application/vnd.databricks.v1+cell": {
     "cellMetadata": {
      "byteLimit": 2048000,
      "rowLimit": 10000
     },
     "inputWidgets": {},
     "nuid": "98d145d4-6cc3-411a-b6d0-f083471c2d0b",
     "showTitle": false,
     "title": ""
    }
   },
   "outputs": [],
   "source": [
    "from pyspark.sql.functions import explode\n",
    "from pyspark.sql.functions import col\n",
    "from pyspark.sql.types import StructType"
   ]
  },
  {
   "cell_type": "code",
   "execution_count": 0,
   "metadata": {
    "application/vnd.databricks.v1+cell": {
     "cellMetadata": {
      "byteLimit": 2048000,
      "rowLimit": 10000
     },
     "inputWidgets": {},
     "nuid": "e7bda8a5-db16-442f-a48c-8e4aead67536",
     "showTitle": false,
     "title": ""
    }
   },
   "outputs": [],
   "source": [
    "sub_tables = {}\n",
    "fact_tables = {}"
   ]
  },
  {
   "cell_type": "markdown",
   "metadata": {
    "application/vnd.databricks.v1+cell": {
     "cellMetadata": {
      "byteLimit": 2048000,
      "rowLimit": 10000
     },
     "inputWidgets": {},
     "nuid": "5d46920f-5067-4cab-acd5-83cd1f90aee0",
     "showTitle": false,
     "title": ""
    }
   },
   "source": [
    "####Rename columns in actor, repo, and org tables"
   ]
  },
  {
   "cell_type": "code",
   "execution_count": 0,
   "metadata": {
    "application/vnd.databricks.v1+cell": {
     "cellMetadata": {
      "byteLimit": 2048000,
      "rowLimit": 10000
     },
     "inputWidgets": {},
     "nuid": "c428abec-590e-41b6-bca8-5d655dd4ffbe",
     "showTitle": false,
     "title": ""
    }
   },
   "outputs": [],
   "source": [
    "orgs_table = orgs_table.withColumnsRenamed({'org_id': 'id', 'org_login': 'login', 'org_url' :'url', 'org_avatar_url': 'avatar_url'})\n",
    "actor_table = actor_table.withColumnsRenamed({'actor_id': 'id', 'actor_login': 'login', 'actor_url': 'url', 'actor_avatar': 'avatar', 'actor_display_login': 'display_login'})\n",
    "repos_table = repos_table.withColumnsRenamed({'repo_id': 'id', 'repo_name': 'name', 'repo_url': 'url'})"
   ]
  },
  {
   "cell_type": "markdown",
   "metadata": {
    "application/vnd.databricks.v1+cell": {
     "cellMetadata": {
      "byteLimit": 2048000,
      "rowLimit": 10000
     },
     "inputWidgets": {},
     "nuid": "dd4d1e00-09b4-46c8-8cbd-b3acd2461875",
     "showTitle": false,
     "title": ""
    }
   },
   "source": [
    "###Create PushEvent Tables"
   ]
  },
  {
   "cell_type": "code",
   "execution_count": 0,
   "metadata": {
    "application/vnd.databricks.v1+cell": {
     "cellMetadata": {
      "byteLimit": 2048000,
      "rowLimit": 10000
     },
     "inputWidgets": {},
     "nuid": "b3ff433a-7283-41d8-908a-7537de27832f",
     "showTitle": false,
     "title": ""
    }
   },
   "outputs": [],
   "source": [
    "PushEvent_df = event_tables['PushEvent']\n",
    "PushEvent_fact = PushEvent_df.select('id', 'created_at', 'public', 'type', 'actor_id', 'repo_id', \"org_id\", \"push_id\")\n",
    "PushEvent_payload = PushEvent_df.select('push_id', 'before', 'commits', 'distinct_size', 'head', 'ref', 'size')\n",
    "\n",
    "fact_tables['PushEvent_fact'] = PushEvent_fact\n",
    "sub_tables['PushEvent_payload'] = PushEvent_payload"
   ]
  },
  {
   "cell_type": "markdown",
   "metadata": {
    "application/vnd.databricks.v1+cell": {
     "cellMetadata": {
      "byteLimit": 2048000,
      "rowLimit": 10000
     },
     "inputWidgets": {},
     "nuid": "4ed3b448-b8b3-4142-bfeb-ba5b9758cb98",
     "showTitle": false,
     "title": ""
    }
   },
   "source": [
    "### Create GollumEvent Tables"
   ]
  },
  {
   "cell_type": "code",
   "execution_count": 0,
   "metadata": {
    "application/vnd.databricks.v1+cell": {
     "cellMetadata": {
      "byteLimit": 2048000,
      "rowLimit": 10000
     },
     "inputWidgets": {},
     "nuid": "9f8fa178-1225-4818-8796-9e5d563971e4",
     "showTitle": false,
     "title": ""
    }
   },
   "outputs": [],
   "source": [
    "\n",
    "GollumEvent_df = event_tables['GollumEvent']\n",
    "GollumEvent_fact = GollumEvent_df.select(\"id\",\"created_at\",\"public\",\"type\",\"actor_id\",\"repo_id\",\"org_id\")\n",
    "pages = GollumEvent_df.select('id', explode('pages').alias(\"page\"))\n",
    "pages = pages.select('id', 'page.*')\n",
    "pages = pages.withColumnRenamed('id', 'event_id')\n",
    "\n",
    "fact_tables['GollumEvent_fact'] = GollumEvent_fact\n",
    "sub_tables['pages'] = pages"
   ]
  },
  {
   "cell_type": "markdown",
   "metadata": {
    "application/vnd.databricks.v1+cell": {
     "cellMetadata": {
      "byteLimit": 2048000,
      "rowLimit": 10000
     },
     "inputWidgets": {},
     "nuid": "4a49afb5-bec0-41ee-a5af-3b3b2a011ad7",
     "showTitle": false,
     "title": ""
    }
   },
   "source": [
    "###Create ReleaseEvent Tables"
   ]
  },
  {
   "cell_type": "code",
   "execution_count": 0,
   "metadata": {
    "application/vnd.databricks.v1+cell": {
     "cellMetadata": {
      "byteLimit": 2048000,
      "rowLimit": 10000
     },
     "inputWidgets": {},
     "nuid": "89525e2a-7936-4c61-a58c-b76a7d9ad74d",
     "showTitle": false,
     "title": ""
    }
   },
   "outputs": [],
   "source": [
    "ReleaseEvent_df = event_tables['ReleaseEvent']\n",
    "ReleaseEvent_fact = ReleaseEvent_df.select('id', 'created_at', 'public', 'type', 'actor_id', 'org_id', 'repo_id', col('release.id').alias('release_id'))\n",
    "releases = ReleaseEvent_df.select(col(\"release.*\"), \"action\")\n",
    "releases = releases.drop(\"assets_url\", \"discussion_url\",'html_url','is_short_description_html_truncated','reactions','short_description_html','tarball_url','upload_url','url','zipball_url')\n",
    "authors = releases.select(col(\"author.*\"))\n",
    "authors = authors.drop(\"avatar_url\", \"events_url\", \"followers_url\", \"following_url\", \"gists_url\", \"gravatar_id\", \"html_url\", \"starred_url\", \"subscriptions_url\", \"received_events_url\", \"repos_url\")\n",
    "releases = releases.withColumn(\"author\", col(\"author.id\"))\n",
    "\n",
    "fact_tables['ReleaseEvent_fact'] = ReleaseEvent_fact\n",
    "sub_tables['members'] = authors #author.id refrences members table\n",
    "sub_tables['releases'] = releases "
   ]
  },
  {
   "cell_type": "markdown",
   "metadata": {
    "application/vnd.databricks.v1+cell": {
     "cellMetadata": {
      "byteLimit": 2048000,
      "rowLimit": 10000
     },
     "inputWidgets": {},
     "nuid": "4ebfcf41-59fb-4d10-8aa2-f65877229680",
     "showTitle": false,
     "title": ""
    }
   },
   "source": [
    "###Create CommitCommentEvent Tables"
   ]
  },
  {
   "cell_type": "code",
   "execution_count": 0,
   "metadata": {
    "application/vnd.databricks.v1+cell": {
     "cellMetadata": {
      "byteLimit": 2048000,
      "rowLimit": 10000
     },
     "inputWidgets": {},
     "nuid": "f144f86d-9a00-4b44-afe3-f6a95ee08310",
     "showTitle": false,
     "title": ""
    }
   },
   "outputs": [],
   "source": [
    "CommitCommentEvent_df = event_tables['CommitCommentEvent']\n",
    "CommitCommentEvent_fact = CommitCommentEvent_df.select('id', 'created_at', 'public', 'type', 'actor_id', 'repo_id', 'org_id', col(\"comment.id\").alias(\"comment_id\"))\n",
    "comments = CommitCommentEvent_df.select(\"comment.*\")\n",
    "comments = comments.drop('_links','html_url','issue_url','performed_via_github_app','pull_request_url','reactions','url')\n",
    "\n",
    "fact_tables['CommitCommentEvent_fact'] = CommitCommentEvent_fact\n",
    "sub_tables['comments'] = comments"
   ]
  },
  {
   "cell_type": "markdown",
   "metadata": {
    "application/vnd.databricks.v1+cell": {
     "cellMetadata": {
      "byteLimit": 2048000,
      "rowLimit": 10000
     },
     "inputWidgets": {},
     "nuid": "e132814c-30c4-46e7-b4db-20eabe275a9b",
     "showTitle": false,
     "title": ""
    }
   },
   "source": [
    "###Create PullRequestReviewEvent Tables"
   ]
  },
  {
   "cell_type": "code",
   "execution_count": 0,
   "metadata": {
    "application/vnd.databricks.v1+cell": {
     "cellMetadata": {
      "byteLimit": 2048000,
      "rowLimit": 10000
     },
     "inputWidgets": {},
     "nuid": "0561b4ee-8b80-4b0a-a75d-30ee2a75dd56",
     "showTitle": false,
     "title": ""
    }
   },
   "outputs": [],
   "source": [
    "PullRequestReviewEvent_df = event_tables['PullRequestReviewEvent']\n",
    "PullRequestReviewEvent_fact = PullRequestReviewEvent_df.select(\"id\", \"created_at\", \"public\", \"type\", \"actor_id\", \"org_id\", \"repo_id\", col(\"pull_request.id\").alias(\"pull_request_id\"), col(\"review.id\").alias(\"review_id\"))\n",
    "\n",
    "pull_requests = PullRequestReviewEvent_df.select(\"pull_request.*\")\n",
    "reviews = PullRequestReviewEvent_df.select(\"review.*\")\n",
    "pull_requests = pull_requests.drop('_links','assignee','assignees','auto_merge','base','comments_url','commits_url','diff_url','head','html_url','merge_commit_sha','mergable','mergeable_state','merged','merged_at','merged_by','milestone','patch_url','requested_reviewers','requested_teams','review_comment_url','review_comments_url','url')\n",
    "reviews = reviews.drop('_links','html_url','pull_request_url')\n",
    "\n",
    "fact_tables['PullRequestReviewEvent_fact'] = PullRequestReviewEvent_fact\n",
    "sub_tables['pull_requests'] = pull_requests\n",
    "sub_tables['reviews'] = reviews"
   ]
  },
  {
   "cell_type": "markdown",
   "metadata": {
    "application/vnd.databricks.v1+cell": {
     "cellMetadata": {
      "byteLimit": 2048000,
      "rowLimit": 10000
     },
     "inputWidgets": {},
     "nuid": "f429c569-e5f3-4e49-ab3c-8b29e173c80f",
     "showTitle": false,
     "title": ""
    }
   },
   "source": [
    "### Create CreateEvent Tables"
   ]
  },
  {
   "cell_type": "code",
   "execution_count": 0,
   "metadata": {
    "application/vnd.databricks.v1+cell": {
     "cellMetadata": {
      "byteLimit": 2048000,
      "rowLimit": 10000
     },
     "inputWidgets": {},
     "nuid": "11f72447-ba0a-4ef9-98d5-272682770b13",
     "showTitle": false,
     "title": ""
    }
   },
   "outputs": [],
   "source": [
    "CreateEvent_df = event_tables['CreateEvent']\n",
    "CreateEvent_fact = CreateEvent_df.select(\"id\",\"public\",'type','actor_id','repo_id','org_id','created_at', col('id').alias(\"create_event_payload_id\"))\n",
    "CreateEvent_payload = CreateEvent_df.select('id', 'master_branch','pusher_type','ref_type', 'ref')\n",
    "\n",
    "fact_tables['CreateEvent_fact'] = CreateEvent_fact\n",
    "sub_tables['CreateEvent_payload'] = CreateEvent_payload"
   ]
  },
  {
   "cell_type": "markdown",
   "metadata": {
    "application/vnd.databricks.v1+cell": {
     "cellMetadata": {
      "byteLimit": 2048000,
      "rowLimit": 10000
     },
     "inputWidgets": {},
     "nuid": "77dd94d5-c735-4d64-90eb-e5f1ac049dbe",
     "showTitle": false,
     "title": ""
    }
   },
   "source": [
    "### Create PullRequestReviewCommentEvent Tables"
   ]
  },
  {
   "cell_type": "code",
   "execution_count": 0,
   "metadata": {
    "application/vnd.databricks.v1+cell": {
     "cellMetadata": {
      "byteLimit": 2048000,
      "rowLimit": 10000
     },
     "inputWidgets": {},
     "nuid": "52606a30-ad34-4637-9277-02eb316475c0",
     "showTitle": false,
     "title": ""
    }
   },
   "outputs": [],
   "source": [
    "PullRequestReviewCommentEvent_df = event_tables['PullRequestReviewCommentEvent']\n",
    "PullRequestReviewCommentEvent_fact = PullRequestReviewCommentEvent_df.select(\"id\", \"created_at\", \"public\", \"type\", \"actor_id\", \"repo_id\", \"org_id\", col(\"id\").alias(\"pull_request_review_comment_payload_id\"))\n",
    "PullRequestReviewCommentEvent_payload = PullRequestReviewCommentEvent_df.select(\"id\", col(\"comment.id\").alias(\"comment_id\"), col(\"pull_request.id\").alias(\"pull_request_id\"))\n",
    "comments = PullRequestReviewCommentEvent_df.select(\"comment.*\")\n",
    "pull_requests = PullRequestReviewCommentEvent_df.select(\"pull_request.*\")\n",
    "comments = comments.drop('_links','html_url','issue_url','performed_via_github_app','pull_request_url','reactions','url')\n",
    "pull_requests = pull_requests.drop('_links','assignee','assignees','auto_merge','base','comments_url','commits_url','diff_url','head','html_url','merge_commit_sha','mergable','mergeable_state','merged','merged_at','merged_by','milestone','patch_url','requested_reviewers','requested_teams','review_comment_url','review_comments_url','url')\n",
    "\n",
    "fact_tables['PullRequestReviewCommentEvent_fact'] = PullRequestReviewCommentEvent_fact\n",
    "sub_tables['PullRequestReviewCommentEvent_payload'] = PullRequestReviewCommentEvent_payload\n",
    "sub_tables['comments'] = sub_tables['comments'].union(comments)\n",
    "sub_tables['pull_requests'] = sub_tables['pull_requests'].union(pull_requests)\n"
   ]
  },
  {
   "cell_type": "markdown",
   "metadata": {
    "application/vnd.databricks.v1+cell": {
     "cellMetadata": {
      "byteLimit": 2048000,
      "rowLimit": 10000
     },
     "inputWidgets": {},
     "nuid": "19d5b173-d8f6-4915-b22c-2b442b857610",
     "showTitle": false,
     "title": ""
    }
   },
   "source": [
    "###Create PublicEvent Tables"
   ]
  },
  {
   "cell_type": "code",
   "execution_count": 0,
   "metadata": {
    "application/vnd.databricks.v1+cell": {
     "cellMetadata": {
      "byteLimit": 2048000,
      "rowLimit": 10000
     },
     "inputWidgets": {},
     "nuid": "c634c053-ade3-44dc-80e1-cafe1811db75",
     "showTitle": false,
     "title": ""
    }
   },
   "outputs": [],
   "source": [
    "PublicEvent_df = event_tables['PublicEvent']\n",
    "PublicEvent_fact = PublicEvent_df\n",
    "\n",
    "fact_tables['PublicEvent_fact'] = PublicEvent_fact"
   ]
  },
  {
   "cell_type": "markdown",
   "metadata": {
    "application/vnd.databricks.v1+cell": {
     "cellMetadata": {
      "byteLimit": 2048000,
      "rowLimit": 10000
     },
     "inputWidgets": {},
     "nuid": "d3bdd35e-e1a4-40b0-8661-7ffe5f5fb85f",
     "showTitle": false,
     "title": ""
    }
   },
   "source": [
    "###Create MemberEvent Tables"
   ]
  },
  {
   "cell_type": "code",
   "execution_count": 0,
   "metadata": {
    "application/vnd.databricks.v1+cell": {
     "cellMetadata": {
      "byteLimit": 2048000,
      "rowLimit": 10000
     },
     "inputWidgets": {},
     "nuid": "1a3fdf2a-f071-49cd-8dbd-db6b74acce16",
     "showTitle": false,
     "title": ""
    },
    "jupyter": {
     "outputs_hidden": true
    }
   },
   "outputs": [],
   "source": [
    "MemberEvent_df = event_tables['MemberEvent']\n",
    "MemberEvent_fact = MemberEvent_df.select(\"id\",\"created_at\",\"public\",\"type\",\"actor_id\",\"org_id\",\"repo_id\",\"action\", col(\"member.id\").alias(\"member_id\"))\n",
    "members = MemberEvent_df.select(\"member.*\")\n",
    "members = members.drop(\"avatar_url\", \"events_url\", \"followers_url\", \"following_url\", \"gists_url\", \"gravatar_id\", \"html_url\", \"starred_url\", \"subscriptions_url\", \"received_events_url\", \"repos_url\")\n",
    "\n",
    "fact_tables['MemberEvent_fact'] = MemberEvent_fact\n",
    "sub_tables['members'] = sub_tables['members'].union(members)"
   ]
  },
  {
   "cell_type": "markdown",
   "metadata": {
    "application/vnd.databricks.v1+cell": {
     "cellMetadata": {
      "byteLimit": 2048000,
      "rowLimit": 10000
     },
     "inputWidgets": {},
     "nuid": "23a69a89-3bd2-4b28-b307-fa56baf4f05d",
     "showTitle": false,
     "title": ""
    }
   },
   "source": [
    "###Create WatchEvent Tables"
   ]
  },
  {
   "cell_type": "code",
   "execution_count": 0,
   "metadata": {
    "application/vnd.databricks.v1+cell": {
     "cellMetadata": {
      "byteLimit": 2048000,
      "rowLimit": 10000
     },
     "inputWidgets": {},
     "nuid": "8d52ff9f-34a4-4afd-a0e3-183b1e91e6de",
     "showTitle": false,
     "title": ""
    },
    "jupyter": {
     "outputs_hidden": true
    }
   },
   "outputs": [],
   "source": [
    "WatchEvent_df = event_tables['WatchEvent']\n",
    "WatchEvent_fact = WatchEvent_df\n",
    "\n",
    "fact_tables['WatchEvent_fact'] = WatchEvent_fact"
   ]
  },
  {
   "cell_type": "markdown",
   "metadata": {
    "application/vnd.databricks.v1+cell": {
     "cellMetadata": {
      "byteLimit": 2048000,
      "rowLimit": 10000
     },
     "inputWidgets": {},
     "nuid": "6e2efd08-41b0-4b91-a3bc-663f8c65a688",
     "showTitle": false,
     "title": ""
    }
   },
   "source": [
    "###Create PullRequestEvent Tables"
   ]
  },
  {
   "cell_type": "code",
   "execution_count": 0,
   "metadata": {
    "application/vnd.databricks.v1+cell": {
     "cellMetadata": {
      "byteLimit": 2048000,
      "rowLimit": 10000
     },
     "inputWidgets": {},
     "nuid": "9b9a956a-f01e-4481-a404-3811f8c49468",
     "showTitle": false,
     "title": ""
    },
    "jupyter": {
     "outputs_hidden": true
    }
   },
   "outputs": [],
   "source": [
    "PullRequestEvent_df = event_tables['PullRequestEvent']\n",
    "PullRequestEvent_fact = PullRequestEvent_df.select(\"id\",\"created_at\",\"public\",\"type\",\"actor_id\", \"org_id\", \"repo_id\",\"action\", col(\"pull_request.id\").alias(\"pull_request_id\"))\n",
    "pull_requests =  PullRequestEvent_df.select(\"pull_request.*\")\n",
    "pull_requests = pull_requests.drop('_links','assignee','assignees','auto_merge','base','comments_url','commits_url','diff_url','head','html_url','merge_commit_sha','mergable','mergeable_state','merged','merged_at','merged_by','milestone','patch_url','requested_reviewers','requested_teams','review_comment_url','review_comments_url','url')\n",
    "\n",
    "fact_tables['PullRequestEvent_fact'] = PullRequestEvent_fact\n",
    "sub_tables['pull_requests'] = sub_tables['pull_requests'].union(pull_requests)"
   ]
  },
  {
   "cell_type": "markdown",
   "metadata": {
    "application/vnd.databricks.v1+cell": {
     "cellMetadata": {
      "byteLimit": 2048000,
      "rowLimit": 10000
     },
     "inputWidgets": {},
     "nuid": "65937d24-1cb3-4614-8239-87636d174645",
     "showTitle": false,
     "title": ""
    }
   },
   "source": [
    "###Create IssueCommentEvent Tables"
   ]
  },
  {
   "cell_type": "code",
   "execution_count": 0,
   "metadata": {
    "application/vnd.databricks.v1+cell": {
     "cellMetadata": {
      "byteLimit": 2048000,
      "rowLimit": 10000
     },
     "inputWidgets": {},
     "nuid": "0157b6be-7ec0-4abd-bee8-07d37257f6c3",
     "showTitle": false,
     "title": ""
    }
   },
   "outputs": [],
   "source": [
    "IssueCommentEvent_df = event_tables[\"IssueCommentEvent\"]\n",
    "IssueCommentEvent_fact = IssueCommentEvent_df.select('id','created_at','public','type','actor_id','repo_id','org_id', col(\"comment.id\").alias('comment_id'), col('issue.id').alias('issue_id'))\n",
    "comments = IssueCommentEvent_df.select(\"comment.*\")\n",
    "issues = IssueCommentEvent_df.select(\"issue.*\")\n",
    "comments = comments.drop('_links','html_url','issue_url','performed_via_github_app','pull_request_url','reactions','url')\n",
    "issues = issues.drop('assignee','assignees','body','comments_url','events_url','html_url','labels','labels_url','locked','milestone','performed_via_github_app','reactions','repository_url','timeline_url','url','pull_request')\n",
    "\n",
    "fact_tables['IssueCommentEvent_fact'] = IssueCommentEvent_fact\n",
    "sub_tables['issues'] = issues\n",
    "sub_tables['comments'] = sub_tables['comments'].union(comments)"
   ]
  },
  {
   "cell_type": "markdown",
   "metadata": {
    "application/vnd.databricks.v1+cell": {
     "cellMetadata": {
      "byteLimit": 2048000,
      "rowLimit": 10000
     },
     "inputWidgets": {},
     "nuid": "057e414d-bebe-4fb9-89f0-d36e94c77213",
     "showTitle": false,
     "title": ""
    }
   },
   "source": [
    "###Create ForkEvent Tables"
   ]
  },
  {
   "cell_type": "code",
   "execution_count": 0,
   "metadata": {
    "application/vnd.databricks.v1+cell": {
     "cellMetadata": {
      "byteLimit": 2048000,
      "rowLimit": 10000
     },
     "inputWidgets": {},
     "nuid": "77b340b7-0767-49ed-872c-b94cbd506169",
     "showTitle": false,
     "title": ""
    }
   },
   "outputs": [],
   "source": [
    "ForkEvent_df = event_tables['ForkEvent']\n",
    "ForkEvent_fact = ForkEvent_df.select('id','created_at','public','type','actor_id','org_id','repo_id',col('forkee.id').alias('forkee_id'))\n",
    "ForkEvent_payload = ForkEvent_df.select('forkee.*')\n",
    "ForkEvent_payload = ForkEvent_payload.drop(\"license\", \"owner\",'archive_url','assignees_url','blobs_url','branches_url','clone_url','collaborators')\n",
    "\n",
    "fact_tables['ForkEvent_fact'] = ForkEvent_fact\n",
    "sub_tables['ForkEvent_payload'] = ForkEvent_payload"
   ]
  },
  {
   "cell_type": "markdown",
   "metadata": {
    "application/vnd.databricks.v1+cell": {
     "cellMetadata": {
      "byteLimit": 2048000,
      "rowLimit": 10000
     },
     "inputWidgets": {},
     "nuid": "c4b245c5-027c-4c69-85f8-666618eaec3b",
     "showTitle": false,
     "title": ""
    }
   },
   "source": [
    "###Create DeleteEvent Tables\n"
   ]
  },
  {
   "cell_type": "code",
   "execution_count": 0,
   "metadata": {
    "application/vnd.databricks.v1+cell": {
     "cellMetadata": {
      "byteLimit": 2048000,
      "rowLimit": 10000
     },
     "inputWidgets": {},
     "nuid": "dee2bc63-75f4-426a-b489-b08196dcbd85",
     "showTitle": false,
     "title": ""
    }
   },
   "outputs": [],
   "source": [
    "DeleteEvent_df = event_tables['DeleteEvent']\n",
    "DeleteEvent_fact = DeleteEvent_df.select('id', 'type', 'public', 'created_at', 'actor_id', 'org_id', 'repo_id')\n",
    "\n",
    "fact_tables['DeleteEvent_fact'] = DeleteEvent_fact"
   ]
  },
  {
   "cell_type": "markdown",
   "metadata": {
    "application/vnd.databricks.v1+cell": {
     "cellMetadata": {
      "byteLimit": 2048000,
      "rowLimit": 10000
     },
     "inputWidgets": {},
     "nuid": "52e54dec-20f5-443e-b98b-f14bf6b49c9a",
     "showTitle": false,
     "title": ""
    }
   },
   "source": [
    "###Create IssuesEvent Tables"
   ]
  },
  {
   "cell_type": "code",
   "execution_count": 0,
   "metadata": {
    "application/vnd.databricks.v1+cell": {
     "cellMetadata": {
      "byteLimit": 2048000,
      "rowLimit": 10000
     },
     "inputWidgets": {},
     "nuid": "3c600b75-5d76-4ab1-9e60-9b253aa94bcd",
     "showTitle": false,
     "title": ""
    }
   },
   "outputs": [],
   "source": [
    "IssuesEvent_df = event_tables['IssuesEvent']\n",
    "IssuesEvent_fact = IssuesEvent_df.select('id','created_at','public','type','actor_id','org_id','repo_id','action',col('issue.id').alias('issue_id'))\n",
    "issues = IssuesEvent_df.select('issue.*')\n",
    "issues = issues.drop('assignee','assignees','body','comments_url','events_url','html_url','labels','labels_url','locked','milestone','performed_via_github_app','reactions','repository_url','timeline_url','url','pull_request')\n",
    "\n",
    "fact_tables['IssueEvent_fact'] = IssuesEvent_fact\n",
    "sub_tables['issues'] = sub_tables['issues'].union(issues)"
   ]
  },
  {
   "cell_type": "markdown",
   "metadata": {
    "application/vnd.databricks.v1+cell": {
     "cellMetadata": {
      "byteLimit": 2048000,
      "rowLimit": 10000
     },
     "inputWidgets": {},
     "nuid": "642ce785-d2b6-4cb0-8f3a-ff87786f42ee",
     "showTitle": false,
     "title": ""
    }
   },
   "source": [
    "##Union Fact Tables"
   ]
  },
  {
   "cell_type": "code",
   "execution_count": 0,
   "metadata": {
    "application/vnd.databricks.v1+cell": {
     "cellMetadata": {
      "byteLimit": 2048000,
      "rowLimit": 10000
     },
     "inputWidgets": {},
     "nuid": "bbc3e432-018d-46e0-84e8-0d37b5c3f872",
     "showTitle": false,
     "title": ""
    }
   },
   "outputs": [],
   "source": [
    "fact_table = spark.createDataFrame([], StructType([]))\n",
    "for name, table in fact_tables.items():\n",
    "    fact_table = fact_table.unionByName(fact_tables[name], allowMissingColumns=True)"
   ]
  },
  {
   "cell_type": "markdown",
   "metadata": {
    "application/vnd.databricks.v1+cell": {
     "cellMetadata": {
      "byteLimit": 2048000,
      "rowLimit": 10000
     },
     "inputWidgets": {},
     "nuid": "4be40820-8d9f-492d-a8bb-ab172bbf77d0",
     "showTitle": false,
     "title": ""
    }
   },
   "source": [
    "##Write Gold Layer Tables"
   ]
  },
  {
   "cell_type": "markdown",
   "metadata": {
    "application/vnd.databricks.v1+cell": {
     "cellMetadata": {
      "byteLimit": 2048000,
      "rowLimit": 10000
     },
     "inputWidgets": {},
     "nuid": "ff6e9183-6381-4870-a67e-ee92c51ef832",
     "showTitle": false,
     "title": ""
    }
   },
   "source": [
    "###Save Fact Table"
   ]
  },
  {
   "cell_type": "code",
   "execution_count": 0,
   "metadata": {
    "application/vnd.databricks.v1+cell": {
     "cellMetadata": {
      "byteLimit": 2048000,
      "rowLimit": 10000
     },
     "inputWidgets": {},
     "nuid": "2c446bac-2eb5-4a1f-b97a-afa3630205f1",
     "showTitle": false,
     "title": ""
    }
   },
   "outputs": [],
   "source": [
    "fact_table.write.format(\"parquet\").mode(\"overwrite\").save(f\"abfss://team2-project2@20230821desa.dfs.core.windows.net/GoldLayer/fact_table\")"
   ]
  },
  {
   "cell_type": "markdown",
   "metadata": {
    "application/vnd.databricks.v1+cell": {
     "cellMetadata": {
      "byteLimit": 2048000,
      "rowLimit": 10000
     },
     "inputWidgets": {},
     "nuid": "9fb22d64-1f33-41d6-9154-9c43da01ab7b",
     "showTitle": false,
     "title": ""
    }
   },
   "source": [
    "###Save Actor/Orgs/Repos Tables"
   ]
  },
  {
   "cell_type": "code",
   "execution_count": 0,
   "metadata": {
    "application/vnd.databricks.v1+cell": {
     "cellMetadata": {
      "byteLimit": 2048000,
      "rowLimit": 10000
     },
     "inputWidgets": {},
     "nuid": "a989295d-5b77-4b2b-a38c-c407d6e87c56",
     "showTitle": false,
     "title": ""
    }
   },
   "outputs": [],
   "source": [
    "actor_table.repartition(1).write.format(\"parquet\").mode(\"overwrite\").save(f\"abfss://team2-project2@20230821desa.dfs.core.windows.net/GoldLayer/actors\")\n",
    "orgs_table.repartition(1).write.format(\"parquet\").mode(\"overwrite\").save(f\"abfss://team2-project2@20230821desa.dfs.core.windows.net/GoldLayer/orgs\")\n",
    "repos_table.repartition(1).write.format(\"parquet\").mode(\"overwrite\").save(f\"abfss://team2-project2@20230821desa.dfs.core.windows.net/GoldLayer/repos\")"
   ]
  },
  {
   "cell_type": "markdown",
   "metadata": {
    "application/vnd.databricks.v1+cell": {
     "cellMetadata": {
      "byteLimit": 2048000,
      "rowLimit": 10000
     },
     "inputWidgets": {},
     "nuid": "27be43b8-7c6e-43b2-a8b8-6a79680c07c6",
     "showTitle": false,
     "title": ""
    }
   },
   "source": [
    "###Save Sub-Tables"
   ]
  },
  {
   "cell_type": "code",
   "execution_count": 0,
   "metadata": {
    "application/vnd.databricks.v1+cell": {
     "cellMetadata": {
      "byteLimit": 2048000,
      "rowLimit": 10000
     },
     "inputWidgets": {},
     "nuid": "b3e7dd26-9df4-44c6-9631-6e3179525bea",
     "showTitle": false,
     "title": ""
    }
   },
   "outputs": [
    {
     "output_type": "stream",
     "name": "stdout",
     "output_type": "stream",
     "text": [
      "1\n2\n3\n4\n5\n6\n7\n8\n9\n10\n"
     ]
    }
   ],
   "source": [
    "sub_tables['PushEvent_payload'].repartition(120).write.format(\"parquet\").mode(\"overwrite\").save(f\"abfss://team2-project2@20230821desa.dfs.core.windows.net/GoldLayer/PushEvent_payload\")\n",
    "\n",
    "sub_tables['pages'].repartition(1).write.format(\"parquet\").mode(\"overwrite\").save(f\"abfss://team2-project2@20230821desa.dfs.core.windows.net/GoldLayer/pages\")\n",
    "\n",
    "sub_tables['members'].repartition(1).write.format(\"parquet\").mode(\"overwrite\").save(f\"abfss://team2-project2@20230821desa.dfs.core.windows.net/GoldLayer/members\")\n",
    "\n",
    "sub_tables['releases'].repartition(1).write.format(\"parquet\").mode(\"overwrite\").save(f\"abfss://team2-project2@20230821desa.dfs.core.windows.net/GoldLayer/releases\")\n",
    "\n",
    "sub_tables['comments'].repartition(30).write.format(\"parquet\").mode(\"overwrite\").save(f\"abfss://team2-project2@20230821desa.dfs.core.windows.net/GoldLayer/comments\")\n",
    "\n",
    "sub_tables['pull_requests'].repartition(100).write.format(\"parquet\").mode(\"overwrite\").save(f\"abfss://team2-project2@20230821desa.dfs.core.windows.net/GoldLayer/pull_requests\")\n",
    "\n",
    "sub_tables['reviews'].repartition(5).write.format(\"parquet\").mode(\"overwrite\").save(f\"abfss://team2-project2@20230821desa.dfs.core.windows.net/GoldLayer/reviews\")\n",
    "\n",
    "sub_tables['CreateEvent_payload'].repartition(1).write.format(\"parquet\").mode(\"overwrite\").save(f\"abfss://team2-project2@20230821desa.dfs.core.windows.net/GoldLayer/CreateEvent_payload\")\n",
    "\n",
    "sub_tables['PullRequestReviewCommentEvent_payload'].repartition(1).write.format(\"parquet\").mode(\"overwrite\").save(f\"abfss://team2-project2@20230821desa.dfs.core.windows.net/GoldLayer/PullRequestReviewCommentEvent_payload\")\n",
    "\n",
    "sub_tables['issues'].repartition(13).write.format(\"parquet\").mode(\"overwrite\").save(f\"abfss://team2-project2@20230821desa.dfs.core.windows.net/GoldLayer/issues\")\n",
    "\n",
    "sub_tables['ForkEvent_payload'].repartition(15).write.format(\"parquet\").mode(\"overwrite\").save(f\"abfss://team2-project2@20230821desa.dfs.core.windows.net/GoldLayer/ForkEvent_payload\")\n"
   ]
  }
 ],
 "metadata": {
  "application/vnd.databricks.v1+notebook": {
   "dashboards": [],
   "language": "python",
   "notebookMetadata": {
    "pythonIndentUnit": 4
   },
   "notebookName": "Gold_Layer_Creation",
   "widgets": {}
  }
 },
 "nbformat": 4,
 "nbformat_minor": 0
}
