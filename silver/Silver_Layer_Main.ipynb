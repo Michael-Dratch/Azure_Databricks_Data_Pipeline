{
 "cells": [
  {
   "cell_type": "markdown",
   "metadata": {
    "application/vnd.databricks.v1+cell": {
     "cellMetadata": {
      "byteLimit": 2048000,
      "rowLimit": 10000
     },
     "inputWidgets": {},
     "nuid": "9b7cffba-dbf9-4d51-8263-8765269d83d2",
     "showTitle": false,
     "title": ""
    }
   },
   "source": [
    "#Silver Layer Creation"
   ]
  },
  {
   "cell_type": "code",
   "execution_count": 0,
   "metadata": {
    "application/vnd.databricks.v1+cell": {
     "cellMetadata": {
      "byteLimit": 2048000,
      "rowLimit": 10000
     },
     "inputWidgets": {},
     "nuid": "5d76cd2b-cdf0-4a4e-9c27-b04d113e7f6f",
     "showTitle": false,
     "title": ""
    }
   },
   "outputs": [],
   "source": [
    "%run ./Transformation_Functions"
   ]
  },
  {
   "cell_type": "markdown",
   "metadata": {
    "application/vnd.databricks.v1+cell": {
     "cellMetadata": {
      "byteLimit": 2048000,
      "rowLimit": 10000
     },
     "inputWidgets": {},
     "nuid": "3ac543ea-8bd5-4ffb-bc4f-ffaea51499fc",
     "showTitle": false,
     "title": ""
    }
   },
   "source": [
    "## Read Files From Bronze Layer"
   ]
  },
  {
   "cell_type": "code",
   "execution_count": 0,
   "metadata": {
    "application/vnd.databricks.v1+cell": {
     "cellMetadata": {
      "byteLimit": 2048000,
      "rowLimit": 10000
     },
     "inputWidgets": {},
     "nuid": "910c1807-3218-4597-8d21-e8f6d1b4ae3c",
     "showTitle": false,
     "title": ""
    }
   },
   "outputs": [],
   "source": [
    "service_credential = dbutils.secrets.get(scope=\"databricks-app-kv\",key=\"databricks-application\")\n",
    "\n",
    "spark.conf.set(\"fs.azure.account.auth.type.20230821desa.dfs.core.windows.net\", \"OAuth\")\n",
    "spark.conf.set(\"fs.azure.account.oauth.provider.type.20230821desa.dfs.core.windows.net\", \"org.apache.hadoop.fs.azurebfs.oauth2.ClientCredsTokenProvider\")\n",
    "spark.conf.set(\"fs.azure.account.oauth2.client.id.20230821desa.dfs.core.windows.net\", \"de4ff859-02b1-4e2f-9d16-b578fa03df4f\")\n",
    "spark.conf.set(\"fs.azure.account.oauth2.client.secret.20230821desa.dfs.core.windows.net\", service_credential)\n",
    "spark.conf.set(\"fs.azure.account.oauth2.client.endpoint.20230821desa.dfs.core.windows.net\", \"https://login.microsoftonline.com/33da9f3f-4c1a-4640-8ce1-3f63024aea1d/oauth2/token\")"
   ]
  },
  {
   "cell_type": "code",
   "execution_count": 0,
   "metadata": {
    "application/vnd.databricks.v1+cell": {
     "cellMetadata": {
      "byteLimit": 2048000,
      "rowLimit": 10000
     },
     "inputWidgets": {},
     "nuid": "4adcb48b-09af-465f-b048-35ad657e8cc8",
     "showTitle": false,
     "title": ""
    }
   },
   "outputs": [],
   "source": [
    "df = (spark.read.format('parquet')\n",
    "      .option('header', 'true')\n",
    "      .load('abfss://team2-project2@20230821desa.dfs.core.windows.net/BronzeLayer/*/*.parquet'))"
   ]
  },
  {
   "cell_type": "markdown",
   "metadata": {
    "application/vnd.databricks.v1+cell": {
     "cellMetadata": {
      "byteLimit": 2048000,
      "rowLimit": 10000
     },
     "inputWidgets": {},
     "nuid": "888aa1a2-b376-41be-9afc-b6226a902b1f",
     "showTitle": false,
     "title": ""
    }
   },
   "source": [
    "## Create Actors Table"
   ]
  },
  {
   "cell_type": "code",
   "execution_count": 0,
   "metadata": {
    "application/vnd.databricks.v1+cell": {
     "cellMetadata": {
      "byteLimit": 2048000,
      "rowLimit": 10000
     },
     "inputWidgets": {},
     "nuid": "1667ad90-1109-4cec-b80a-660fa79b178c",
     "showTitle": false,
     "title": ""
    }
   },
   "outputs": [],
   "source": [
    "actor_df = df.select([\"actor_id\", \"actor_login\", \"actor_url\", \"actor_avatar\", \"actor_display_login\", \"actor_gravatar_id\"])\n",
    "# droping gravatarid because every record has an empty string as its value\n",
    "actor_df = actor_df.drop(\"actor_gravatar_id\")\n",
    "actor_df = actor_df.dropDuplicates(subset=[\"actor_id\"])\n",
    "actor_df = actor_df.na.drop(subset=['actor_id'])"
   ]
  },
  {
   "cell_type": "markdown",
   "metadata": {
    "application/vnd.databricks.v1+cell": {
     "cellMetadata": {
      "byteLimit": 2048000,
      "rowLimit": 10000
     },
     "inputWidgets": {},
     "nuid": "7ae84c12-d75d-4722-9853-707ff525ad9e",
     "showTitle": false,
     "title": ""
    }
   },
   "source": [
    "## Create Repo Table"
   ]
  },
  {
   "cell_type": "code",
   "execution_count": 0,
   "metadata": {
    "application/vnd.databricks.v1+cell": {
     "cellMetadata": {
      "byteLimit": 2048000,
      "rowLimit": 10000
     },
     "inputWidgets": {},
     "nuid": "6763d89c-bbae-4670-b7bb-3a0414b8e073",
     "showTitle": false,
     "title": ""
    }
   },
   "outputs": [],
   "source": [
    "repo_df = df.select(['repo_id', 'repo_name', 'repo_url'])\n",
    "repo_df = repo_df.dropDuplicates(subset=['repo_id'])\n",
    "repo_df = repo_df.na.drop(subset=['repo_id'])"
   ]
  },
  {
   "cell_type": "markdown",
   "metadata": {
    "application/vnd.databricks.v1+cell": {
     "cellMetadata": {
      "byteLimit": 2048000,
      "rowLimit": 10000
     },
     "inputWidgets": {},
     "nuid": "14bde94a-3a7d-4057-87dc-f9c583401370",
     "showTitle": false,
     "title": ""
    }
   },
   "source": [
    "## Create Org Table"
   ]
  },
  {
   "cell_type": "code",
   "execution_count": 0,
   "metadata": {
    "application/vnd.databricks.v1+cell": {
     "cellMetadata": {
      "byteLimit": 2048000,
      "rowLimit": 10000
     },
     "inputWidgets": {},
     "nuid": "60a54e32-f35e-4c95-bab9-5f2f7d81fbcf",
     "showTitle": false,
     "title": ""
    }
   },
   "outputs": [],
   "source": [
    "org_df = df.select(['org_id', 'org_login', 'org_url', 'org_avatar_url', 'org_gravatar_id'])\n",
    "# droping gravatarid because every record has an empty string as its value\n",
    "org_df = org_df.drop('org_gravatar_id')\n",
    "org_df = org_df.dropDuplicates(subset=['org_id'])\n",
    "org_df = org_df.na.drop(subset=['org_id'])"
   ]
  },
  {
   "cell_type": "markdown",
   "metadata": {
    "application/vnd.databricks.v1+cell": {
     "cellMetadata": {
      "byteLimit": 2048000,
      "rowLimit": 10000
     },
     "inputWidgets": {},
     "nuid": "0e5a1a38-217f-4c5e-ad5a-ca4146516fe9",
     "showTitle": false,
     "title": ""
    }
   },
   "source": [
    "##Create Event Tables"
   ]
  },
  {
   "cell_type": "code",
   "execution_count": 0,
   "metadata": {
    "application/vnd.databricks.v1+cell": {
     "cellMetadata": {
      "byteLimit": 2048000,
      "rowLimit": 10000
     },
     "inputWidgets": {},
     "nuid": "b7d92f62-397f-4e98-b4db-ac1865f0dbba",
     "showTitle": false,
     "title": ""
    }
   },
   "outputs": [],
   "source": [
    "event_tables = create_event_tables(df)"
   ]
  },
  {
   "cell_type": "markdown",
   "metadata": {
    "application/vnd.databricks.v1+cell": {
     "cellMetadata": {
      "byteLimit": 2048000,
      "rowLimit": 10000
     },
     "inputWidgets": {},
     "nuid": "77e74895-ec11-4c5c-a428-b45b864d6666",
     "showTitle": false,
     "title": ""
    }
   },
   "source": [
    "## Save tables to data lake"
   ]
  },
  {
   "cell_type": "code",
   "execution_count": 0,
   "metadata": {
    "application/vnd.databricks.v1+cell": {
     "cellMetadata": {
      "byteLimit": 2048000,
      "rowLimit": 10000
     },
     "inputWidgets": {},
     "nuid": "0fe1e7d2-e660-4302-aece-c9bbf86d5817",
     "showTitle": false,
     "title": ""
    }
   },
   "outputs": [],
   "source": [
    "actor_df.repartition(3).write.format(\"parquet\").mode(\"overwrite\").save(f\"abfss://team2-project2@20230821desa.dfs.core.windows.net/SilverLayer/actors\")\n",
    "repo_df.repartition(5).write.format(\"parquet\").mode(\"overwrite\").save(f\"abfss://team2-project2@20230821desa.dfs.core.windows.net/SilverLayer/repos\")\n",
    "org_df.repartition(1).write.format(\"parquet\").mode(\"overwrite\").save(f\"abfss://team2-project2@20230821desa.dfs.core.windows.net/SilverLayer/orgs\")"
   ]
  },
  {
   "cell_type": "code",
   "execution_count": 0,
   "metadata": {
    "application/vnd.databricks.v1+cell": {
     "cellMetadata": {
      "byteLimit": 2048000,
      "rowLimit": 10000
     },
     "inputWidgets": {},
     "nuid": "df34fd7b-f55c-4f58-8fda-6a4a1be6118b",
     "showTitle": false,
     "title": ""
    }
   },
   "outputs": [],
   "source": [
    "event_tables[\"PullRequestEvent\"].repartition(150).write.format(\"parquet\").mode(\"overwrite\").save(f\"abfss://team2-project2@20230821desa.dfs.core.windows.net/SilverLayer/PullRequestEvent\")\n",
    "event_tables[\"PushEvent\"].repartition(90).write.format(\"parquet\").mode(\"overwrite\").save(f\"abfss://team2-project2@20230821desa.dfs.core.windows.net/SilverLayer/PushEvent\")\n",
    "event_tables[\"IssueCommentEvent\"].repartition(50).write.format(\"parquet\").mode(\"overwrite\").save(f\"abfss://team2-project2@20230821desa.dfs.core.windows.net/SilverLayer/IssueCommentEvent\")\n",
    "event_tables[\"CreateEvent\"].repartition(3).write.format(\"parquet\").mode(\"overwrite\").save(f\"abfss://team2-project2@20230821desa.dfs.core.windows.net/SilverLayer/CreateEvent\")\n",
    "event_tables[\"DeleteEvent\"].repartition(1).write.format(\"parquet\").mode(\"overwrite\").save(f\"abfss://team2-project2@20230821desa.dfs.core.windows.net/SilverLayer/DeleteEvent\")\n",
    "event_tables[\"WatchEvent\"].repartition(1).write.format(\"parquet\").mode(\"overwrite\").save(f\"abfss://team2-project2@20230821desa.dfs.core.windows.net/SilverLayer/WatchEvent\")\n",
    "event_tables[\"ReleaseEvent\"].repartition(2).write.format(\"parquet\").mode(\"overwrite\").save(f\"abfss://team2-project2@20230821desa.dfs.core.windows.net/SilverLayer/ReleaseEvent\")\n",
    "event_tables[\"ForkEvent\"].repartition(13).write.format(\"parquet\").mode(\"overwrite\").save(f\"abfss://team2-project2@20230821desa.dfs.core.windows.net/SilverLayer/ForkEvent\")\n",
    "event_tables[\"IssuesEvent\"].repartition(9).write.format(\"parquet\").mode(\"overwrite\").save(f\"abfss://team2-project2@20230821desa.dfs.core.windows.net/SilverLayer/IssuesEvent\")\n",
    "event_tables[\"PullRequestReviewEvent\"].repartition(20).write.format(\"parquet\").mode(\"overwrite\").save(f\"abfss://team2-project2@20230821desa.dfs.core.windows.net/SilverLayer/PullRequestReviewEvent\")\n",
    "event_tables[\"PullRequestReviewCommentEvent\"].repartition(10).write.format(\"parquet\").mode(\"overwrite\").save(f\"abfss://team2-project2@20230821desa.dfs.core.windows.net/SilverLayer/PullRequestReviewCommentEvent\")\n",
    "event_tables[\"CommitCommentEvent\"].repartition(2).write.format(\"parquet\").mode(\"overwrite\").save(f\"abfss://team2-project2@20230821desa.dfs.core.windows.net/SilverLayer/CommitCommentEvent\")\n",
    "event_tables[\"MemberEvent\"].repartition(1).write.format(\"parquet\").mode(\"overwrite\").save(f\"abfss://team2-project2@20230821desa.dfs.core.windows.net/SilverLayer/MemberEvent\")\n",
    "event_tables[\"PublicEvent\"].repartition(1).write.format(\"parquet\").mode(\"overwrite\").save(f\"abfss://team2-project2@20230821desa.dfs.core.windows.net/SilverLayer/PublicEvent\")\n",
    "event_tables[\"GollumEvent\"].repartition(1).write.format(\"parquet\").mode(\"overwrite\").save(f\"abfss://team2-project2@20230821desa.dfs.core.windows.net/SilverLayer/GollumEvent\")"
   ]
  }
 ],
 "metadata": {
  "application/vnd.databricks.v1+notebook": {
   "dashboards": [],
   "language": "python",
   "notebookMetadata": {
    "pythonIndentUnit": 4
   },
   "notebookName": "Silver_Layer_Main",
   "widgets": {}
  }
 },
 "nbformat": 4,
 "nbformat_minor": 0
}
